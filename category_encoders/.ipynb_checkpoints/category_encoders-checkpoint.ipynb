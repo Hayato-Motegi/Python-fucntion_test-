{
 "cells": [
  {
   "cell_type": "code",
   "execution_count": 1,
   "metadata": {},
   "outputs": [
    {
     "name": "stdout",
     "output_type": "stream",
     "text": [
      "Collecting featuretools\n",
      "  Using cached featuretools-1.11.0-py3-none-any.whl (362 kB)\n",
      "Collecting holidays>=0.13\n",
      "  Using cached holidays-0.14.2-py3-none-any.whl (179 kB)\n",
      "Requirement already satisfied: cloudpickle>=1.5.0 in /opt/anaconda3/lib/python3.8/site-packages (from featuretools) (1.6.0)\n",
      "Requirement already satisfied: psutil>=5.6.6 in /opt/anaconda3/lib/python3.8/site-packages (from featuretools) (5.7.2)\n",
      "Collecting dask[dataframe]>=2021.10.0\n",
      "  Using cached dask-2022.6.1-py3-none-any.whl (1.1 MB)\n",
      "Requirement already satisfied: click>=7.0.0 in /opt/anaconda3/lib/python3.8/site-packages (from featuretools) (7.1.2)\n",
      "Collecting pandas>=1.3.0\n",
      "  Using cached pandas-1.4.3-cp38-cp38-macosx_10_9_x86_64.whl (11.4 MB)\n",
      "Requirement already satisfied: numpy>=1.21.0 in /opt/anaconda3/lib/python3.8/site-packages (from featuretools) (1.23.0)\n",
      "Collecting woodwork>=0.16.2\n",
      "  Using cached woodwork-0.16.4-py3-none-any.whl (207 kB)\n",
      "Requirement already satisfied: tqdm>=4.32.0 in /opt/anaconda3/lib/python3.8/site-packages (from featuretools) (4.50.2)\n",
      "Requirement already satisfied: scipy>=1.3.3 in /opt/anaconda3/lib/python3.8/site-packages (from featuretools) (1.5.2)\n",
      "Collecting distributed>=2021.10.0\n",
      "  Using cached distributed-2022.6.1-py3-none-any.whl (882 kB)\n",
      "Requirement already satisfied: pyyaml>=5.3.1 in /opt/anaconda3/lib/python3.8/site-packages (from dask[dataframe]>=2021.10.0->featuretools) (5.3.1)\n",
      "Requirement already satisfied: fsspec>=0.6.0 in /opt/anaconda3/lib/python3.8/site-packages (from dask[dataframe]>=2021.10.0->featuretools) (0.8.3)\n",
      "Requirement already satisfied: packaging>=20.0 in /opt/anaconda3/lib/python3.8/site-packages (from dask[dataframe]>=2021.10.0->featuretools) (20.4)\n",
      "Requirement already satisfied: toolz>=0.8.2 in /opt/anaconda3/lib/python3.8/site-packages (from dask[dataframe]>=2021.10.0->featuretools) (0.11.1)\n",
      "Requirement already satisfied: partd>=0.3.10 in /opt/anaconda3/lib/python3.8/site-packages (from dask[dataframe]>=2021.10.0->featuretools) (1.1.0)\n",
      "Requirement already satisfied: zict>=0.1.3 in /opt/anaconda3/lib/python3.8/site-packages (from distributed>=2021.10.0->featuretools) (2.0.0)\n",
      "Requirement already satisfied: msgpack>=0.6.0 in /opt/anaconda3/lib/python3.8/site-packages (from distributed>=2021.10.0->featuretools) (1.0.0)\n",
      "Collecting locket>=1.0.0\n",
      "  Using cached locket-1.0.0-py2.py3-none-any.whl (4.4 kB)\n",
      "Requirement already satisfied: tornado>=6.0.3 in /opt/anaconda3/lib/python3.8/site-packages (from distributed>=2021.10.0->featuretools) (6.0.4)\n",
      "Requirement already satisfied: sortedcontainers!=2.0.0,!=2.0.1 in /opt/anaconda3/lib/python3.8/site-packages (from distributed>=2021.10.0->featuretools) (2.2.2)\n",
      "Requirement already satisfied: tblib>=1.6.0 in /opt/anaconda3/lib/python3.8/site-packages (from distributed>=2021.10.0->featuretools) (1.7.0)\n",
      "Requirement already satisfied: urllib3 in /opt/anaconda3/lib/python3.8/site-packages (from distributed>=2021.10.0->featuretools) (1.26.9)\n",
      "Requirement already satisfied: jinja2 in /opt/anaconda3/lib/python3.8/site-packages (from distributed>=2021.10.0->featuretools) (2.11.2)\n",
      "Collecting hijri-converter\n",
      "  Using cached hijri_converter-2.2.4-py3-none-any.whl (14 kB)\n",
      "Collecting convertdate>=2.3.0\n",
      "  Using cached convertdate-2.4.0-py3-none-any.whl (47 kB)\n",
      "Requirement already satisfied: korean-lunar-calendar in /opt/anaconda3/lib/python3.8/site-packages (from holidays>=0.13->featuretools) (0.2.1)\n",
      "Requirement already satisfied: python-dateutil in /opt/anaconda3/lib/python3.8/site-packages (from holidays>=0.13->featuretools) (2.8.1)\n",
      "Requirement already satisfied: pytz>=2020.1 in /opt/anaconda3/lib/python3.8/site-packages (from pandas>=1.3.0->featuretools) (2020.1)\n",
      "Requirement already satisfied: scikit-learn>=0.22 in /opt/anaconda3/lib/python3.8/site-packages (from woodwork>=0.16.2->featuretools) (0.23.2)\n",
      "Collecting pandas>=1.3.0\n",
      "  Using cached pandas-1.4.1-cp38-cp38-macosx_10_9_x86_64.whl (11.4 MB)\n",
      "Requirement already satisfied: pymeeus<=1,>=0.3.13 in /opt/anaconda3/lib/python3.8/site-packages (from convertdate>=2.3.0->holidays>=0.13->featuretools) (0.5.11)\n",
      "Requirement already satisfied: pyparsing>=2.0.2 in /opt/anaconda3/lib/python3.8/site-packages (from packaging>=20.0->dask[dataframe]>=2021.10.0->featuretools) (2.4.7)\n",
      "Requirement already satisfied: six in /opt/anaconda3/lib/python3.8/site-packages (from packaging>=20.0->dask[dataframe]>=2021.10.0->featuretools) (1.15.0)\n",
      "Requirement already satisfied: joblib>=0.11 in /opt/anaconda3/lib/python3.8/site-packages (from scikit-learn>=0.22->woodwork>=0.16.2->featuretools) (0.17.0)\n",
      "Requirement already satisfied: threadpoolctl>=2.0.0 in /opt/anaconda3/lib/python3.8/site-packages (from scikit-learn>=0.22->woodwork>=0.16.2->featuretools) (2.1.0)\n",
      "Requirement already satisfied: heapdict in /opt/anaconda3/lib/python3.8/site-packages (from zict>=0.1.3->distributed>=2021.10.0->featuretools) (1.0.1)\n",
      "Requirement already satisfied: MarkupSafe>=0.23 in /opt/anaconda3/lib/python3.8/site-packages (from jinja2->distributed>=2021.10.0->featuretools) (1.1.1)\n",
      "Installing collected packages: locket, hijri-converter, convertdate, pandas, holidays, woodwork, dask, distributed, featuretools\n",
      "  Attempting uninstall: locket\n",
      "    Found existing installation: locket 0.2.0\n",
      "\u001b[31mERROR: Cannot uninstall 'locket'. It is a distutils installed project and thus we cannot accurately determine which files belong to it which would lead to only a partial uninstall.\u001b[0m\u001b[31m\n",
      "\u001b[0mNote: you may need to restart the kernel to use updated packages.\n"
     ]
    }
   ],
   "source": [
    "pip install featuretools"
   ]
  },
  {
   "cell_type": "code",
   "execution_count": 4,
   "metadata": {},
   "outputs": [
    {
     "ename": "ModuleNotFoundError",
     "evalue": "No module named 'featuretools'",
     "output_type": "error",
     "traceback": [
      "\u001b[0;31m---------------------------------------------------------------------------\u001b[0m",
      "\u001b[0;31mModuleNotFoundError\u001b[0m                       Traceback (most recent call last)",
      "\u001b[0;32m<ipython-input-4-508607ebda45>\u001b[0m in \u001b[0;36m<module>\u001b[0;34m\u001b[0m\n\u001b[0;32m----> 1\u001b[0;31m \u001b[0;32mimport\u001b[0m \u001b[0mfeaturetools\u001b[0m \u001b[0;32mas\u001b[0m \u001b[0mft\u001b[0m\u001b[0;34m\u001b[0m\u001b[0;34m\u001b[0m\u001b[0m\n\u001b[0m\u001b[1;32m      2\u001b[0m \u001b[0;34m\u001b[0m\u001b[0m\n\u001b[1;32m      3\u001b[0m \u001b[0;31m# load data\u001b[0m\u001b[0;34m\u001b[0m\u001b[0;34m\u001b[0m\u001b[0;34m\u001b[0m\u001b[0m\n\u001b[1;32m      4\u001b[0m \u001b[0mdata\u001b[0m \u001b[0;34m=\u001b[0m \u001b[0mft\u001b[0m\u001b[0;34m.\u001b[0m\u001b[0mdemo\u001b[0m\u001b[0;34m.\u001b[0m\u001b[0mload_mock_customer\u001b[0m\u001b[0;34m(\u001b[0m\u001b[0;34m)\u001b[0m\u001b[0;34m\u001b[0m\u001b[0;34m\u001b[0m\u001b[0m\n\u001b[1;32m      5\u001b[0m \u001b[0mdf_session\u001b[0m \u001b[0;34m=\u001b[0m \u001b[0mdata\u001b[0m\u001b[0;34m[\u001b[0m\u001b[0;34m'sessions'\u001b[0m\u001b[0;34m]\u001b[0m\u001b[0;34m\u001b[0m\u001b[0;34m\u001b[0m\u001b[0m\n",
      "\u001b[0;31mModuleNotFoundError\u001b[0m: No module named 'featuretools'"
     ]
    }
   ],
   "source": [
    "import featuretools as ft\n",
    "\n",
    "# load data\n",
    "data = ft.demo.load_mock_customer()\n",
    "df_session = data['sessions']\n",
    "\n",
    "df_session.head()"
   ]
  },
  {
   "cell_type": "code",
   "execution_count": null,
   "metadata": {},
   "outputs": [],
   "source": []
  },
  {
   "cell_type": "code",
   "execution_count": null,
   "metadata": {},
   "outputs": [],
   "source": []
  },
  {
   "cell_type": "code",
   "execution_count": null,
   "metadata": {},
   "outputs": [],
   "source": []
  },
  {
   "cell_type": "code",
   "execution_count": null,
   "metadata": {},
   "outputs": [],
   "source": []
  },
  {
   "cell_type": "code",
   "execution_count": null,
   "metadata": {},
   "outputs": [],
   "source": []
  }
 ],
 "metadata": {
  "kernelspec": {
   "display_name": "Python 3",
   "language": "python",
   "name": "python3"
  },
  "language_info": {
   "codemirror_mode": {
    "name": "ipython",
    "version": 3
   },
   "file_extension": ".py",
   "mimetype": "text/x-python",
   "name": "python",
   "nbconvert_exporter": "python",
   "pygments_lexer": "ipython3",
   "version": "3.8.5"
  }
 },
 "nbformat": 4,
 "nbformat_minor": 4
}
