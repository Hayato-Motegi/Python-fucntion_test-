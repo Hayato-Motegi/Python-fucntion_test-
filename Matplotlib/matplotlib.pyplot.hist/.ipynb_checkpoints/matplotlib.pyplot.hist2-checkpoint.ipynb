{
 "cells": [
  {
   "cell_type": "markdown",
   "metadata": {},
   "source": [
    "# Matplotlib ヒストグラム徹底攻略！｜作成も見た目の設定も全解説\n",
    "## https://www.yutaka-note.com/entry/matplotlib_hist"
   ]
  },
  {
   "cell_type": "code",
   "execution_count": 4,
   "metadata": {},
   "outputs": [],
   "source": [
    "%matplotlib inline\n",
    "import matplotlib.pyplot as plt\n",
    "import numpy as np\n",
    " \n",
    "#ヒストグラム用データを準備\n",
    "x = np.random.randn(100)"
   ]
  },
  {
   "cell_type": "code",
   "execution_count": 5,
   "metadata": {},
   "outputs": [
    {
     "data": {
      "text/plain": [
       "array([ 0.71052652, -1.55766858, -1.16647101, -0.43408498,  0.11628121,\n",
       "       -1.13512439,  0.61046879, -0.50866546, -1.39346799,  0.63814779,\n",
       "       -0.38348707, -0.39638356, -0.87696864, -1.10868585,  0.2826224 ,\n",
       "       -2.05580599, -0.66261556,  0.01017683, -0.46130746, -0.85816245,\n",
       "       -0.58800151,  0.50494207,  0.0093609 ,  0.93326474,  1.26988832,\n",
       "        0.50155313,  0.61527707, -1.14173214, -0.66088852, -0.72068034,\n",
       "       -0.28875093,  0.52522209,  0.9648356 , -0.0621438 ,  1.2895413 ,\n",
       "       -0.51407522, -0.72600204,  1.80341513,  0.10854439,  0.45094005,\n",
       "       -0.37636549, -0.3831824 ,  0.34385983,  0.48543088,  0.0719633 ,\n",
       "       -0.63079584,  0.09500054,  0.94247815, -1.21414048, -0.50851291,\n",
       "       -0.13599252, -1.20858521, -0.7445334 ,  0.47362404, -0.27342731,\n",
       "       -0.37050383,  0.50535881,  1.17455592,  1.34218999, -0.92342202,\n",
       "        1.96667899, -0.67945749,  0.88971245, -0.15635973,  1.36321957,\n",
       "       -1.30772025,  1.33193831,  1.62753189,  1.01120017,  0.62070474,\n",
       "       -1.89340945, -1.26202389, -0.75940167, -0.54405908, -0.49396549,\n",
       "        1.3298578 ,  2.38311807,  0.23894359, -1.42435955,  0.37019129,\n",
       "       -0.80952231, -0.11831248,  1.2253174 ,  1.37263663,  0.32654644,\n",
       "       -0.94685989,  1.31708853,  0.12009796,  1.6351866 ,  0.41618469,\n",
       "       -0.10610934, -0.41327037, -0.80070428, -0.93170642, -0.43282076,\n",
       "        0.35350895,  0.31547342,  0.64980792,  1.06528948, -0.09468293])"
      ]
     },
     "metadata": {},
     "output_type": "display_data"
    }
   ],
   "source": [
    "display(x)"
   ]
  },
  {
   "cell_type": "code",
   "execution_count": 8,
   "metadata": {},
   "outputs": [
    {
     "data": {
      "text/plain": [
       "(array([ 2.,  7., 14., 21., 14., 15., 11., 11.,  3.,  2.]),\n",
       " array([-2.05580599, -1.61191358, -1.16802117, -0.72412877, -0.28023636,\n",
       "         0.16365604,  0.60754845,  1.05144086,  1.49533326,  1.93922567,\n",
       "         2.38311807]),\n",
       " <BarContainer object of 10 artists>)"
      ]
     },
     "execution_count": 8,
     "metadata": {},
     "output_type": "execute_result"
    },
    {
     "data": {
      "image/png": "[encoded data removed]",
      "text/plain": [
       "<Figure size 432x288 with 1 Axes>"
      ]
     },
     "metadata": {
      "needs_background": "light"
     },
     "output_type": "display_data"
    }
   ],
   "source": [
    "plt.hist(x)"
   ]
  },
  {
   "cell_type": "code",
   "execution_count": 11,
   "metadata": {},
   "outputs": [
    {
     "data": {
      "image/png": "[encoded data removed]",
      "text/plain": [
       "<Figure size 432x288 with 1 Axes>"
      ]
     },
     "metadata": {
      "needs_background": "light"
     },
     "output_type": "display_data"
    }
   ],
   "source": [
    "plt.hist(x)\n",
    "plt.show()\n",
    "#デフォルトでは、データの最小値から最大値までを１０区間に区切ったヒストグラムが作成されます。"
   ]
  },
  {
   "cell_type": "code",
   "execution_count": null,
   "metadata": {},
   "outputs": [],
   "source": []
  }
 ],
 "metadata": {
  "kernelspec": {
   "display_name": "Python 3",
   "language": "python",
   "name": "python3"
  },
  "language_info": {
   "codemirror_mode": {
    "name": "ipython",
    "version": 3
   },
   "file_extension": ".py",
   "mimetype": "text/x-python",
   "name": "python",
   "nbconvert_exporter": "python",
   "pygments_lexer": "ipython3",
   "version": "3.8.5"
  }
 },
 "nbformat": 4,
 "nbformat_minor": 4
}
