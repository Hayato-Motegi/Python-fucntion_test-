{
 "cells": [
  {
   "cell_type": "markdown",
   "metadata": {},
   "source": [
    "# matplotlibでヒストグラムの作成\n",
    "## http://cranethree.hatenablog.com/entry/2015/07/29/192934"
   ]
  },
  {
   "cell_type": "code",
   "execution_count": 33,
   "metadata": {},
   "outputs": [
    {
     "ename": "SyntaxError",
     "evalue": "invalid syntax (<ipython-input-33-8ea0ebcd3b63>, line 3)",
     "output_type": "error",
     "traceback": [
      "\u001b[0;36m  File \u001b[0;32m\"<ipython-input-33-8ea0ebcd3b63>\"\u001b[0;36m, line \u001b[0;32m3\u001b[0m\n\u001b[0;31m    from pylab import\u001b[0m\n\u001b[0m                     ^\u001b[0m\n\u001b[0;31mSyntaxError\u001b[0m\u001b[0;31m:\u001b[0m invalid syntax\n"
     ]
    }
   ],
   "source": [
    "import numpy as np\n",
    "import matplotlib.pyplot as plt\n",
    "from pylab import\n",
    "from math import\n",
    "from scipy.stats import norm\n",
    "\n",
    "nor = np.random.normal(0,1,500) #ガウシアンに従う乱数500個発生\n",
    "x = np.arange(-5,5,0.01)\n",
    "\n",
    "plt.xlabel(\"x\")\n",
    "plt.ylabel(\"N\")\n",
    "plt.hist(nor,bins=20,range=(-4,4),normed=True)\n",
    "plt.plot(x,norm.pdf(x),lw=3,color=\"r\")\n",
    "plt.show()"
   ]
  },
  {
   "cell_type": "code",
   "execution_count": null,
   "metadata": {},
   "outputs": [],
   "source": []
  },
  {
   "cell_type": "code",
   "execution_count": null,
   "metadata": {},
   "outputs": [],
   "source": []
  }
 ],
 "metadata": {
  "kernelspec": {
   "display_name": "Python 3",
   "language": "python",
   "name": "python3"
  },
  "language_info": {
   "codemirror_mode": {
    "name": "ipython",
    "version": 3
   },
   "file_extension": ".py",
   "mimetype": "text/x-python",
   "name": "python",
   "nbconvert_exporter": "python",
   "pygments_lexer": "ipython3",
   "version": "3.8.5"
  }
 },
 "nbformat": 4,
 "nbformat_minor": 4
}
