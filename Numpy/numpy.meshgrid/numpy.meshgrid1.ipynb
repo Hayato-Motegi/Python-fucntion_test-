{
 "cells": [
  {
   "cell_type": "code",
   "execution_count": 1,
   "metadata": {},
   "outputs": [],
   "source": [
    "import numpy as np\n",
    "from matplotlib import pyplot as plt"
   ]
  },
  {
   "cell_type": "code",
   "execution_count": 17,
   "metadata": {},
   "outputs": [
    {
     "name": "stdout",
     "output_type": "stream",
     "text": [
      "[[0 1 2 3 4]\n",
      " [0 1 2 3 4]\n",
      " [0 1 2 3 4]\n",
      " [0 1 2 3 4]\n",
      " [0 1 2 3 4]]\n",
      "[[0 0 0 0 0]\n",
      " [1 1 1 1 1]\n",
      " [2 2 2 2 2]\n",
      " [3 3 3 3 3]\n",
      " [4 4 4 4 4]]\n",
      "[[0 1 2 3 4]\n",
      " [1 2 3 4 5]\n",
      " [2 3 4 5 6]\n",
      " [3 4 5 6 7]\n",
      " [4 5 6 7 8]]\n"
     ]
    },
    {
     "data": {
      "image/png": "[encoded data removed]",
      "text/plain": [
       "<Figure size 432x288 with 1 Axes>"
      ]
     },
     "metadata": {
      "needs_background": "light"
     },
     "output_type": "display_data"
    }
   ],
   "source": [
    "    x_min: int = 0\n",
    "    x_max: int = 5\n",
    "    y_min: int = 0\n",
    "    y_max: int = 5\n",
    "        \n",
    "    res: int  = 1    # 値の間隔\n",
    "        \n",
    "    x_grid, y_grid = np.meshgrid(\n",
    "        np.arange(x_min, x_max, res),\n",
    "        np.arange(y_min, y_max, res)\n",
    "    )\n",
    "    for _grid in (x_grid, y_grid):print(_grid)\n",
    "    \n",
    "    # 等高線を描画する\n",
    "    plot_contour = True\n",
    "    if plot_contour:\n",
    "        grid = x_grid + y_grid    # 加算した値を等高線に利用する\n",
    "        print(grid)\n",
    "        plt.contourf(x_grid, y_grid, grid, alpha=0.4)\n",
    "        plt.show()"
   ]
  },
  {
   "cell_type": "code",
   "execution_count": null,
   "metadata": {},
   "outputs": [],
   "source": []
  }
 ],
 "metadata": {
  "kernelspec": {
   "display_name": "Python 3",
   "language": "python",
   "name": "python3"
  },
  "language_info": {
   "codemirror_mode": {
    "name": "ipython",
    "version": 3
   },
   "file_extension": ".py",
   "mimetype": "text/x-python",
   "name": "python",
   "nbconvert_exporter": "python",
   "pygments_lexer": "ipython3",
   "version": "3.8.5"
  }
 },
 "nbformat": 4,
 "nbformat_minor": 4
}
