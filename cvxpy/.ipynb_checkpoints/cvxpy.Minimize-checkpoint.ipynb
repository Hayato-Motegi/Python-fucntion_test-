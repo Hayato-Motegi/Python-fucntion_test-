{
 "cells": [
  {
   "cell_type": "code",
   "execution_count": 18,
   "metadata": {},
   "outputs": [
    {
     "name": "stdout",
     "output_type": "stream",
     "text": [
      "===============================================================================\n",
      "                                     CVXPY                                     \n",
      "                                     v1.2.1                                    \n",
      "===============================================================================\n",
      "(CVXPY) Jun 14 10:12:31 AM: Your problem has 8 variables, 3 constraints, and 0 parameters.\n",
      "(CVXPY) Jun 14 10:12:31 AM: It is compliant with the following grammars: DCP, DQCP\n",
      "(CVXPY) Jun 14 10:12:31 AM: (If you need to solve this problem multiple times, but with different data, consider using parameters.)\n",
      "(CVXPY) Jun 14 10:12:31 AM: CVXPY will first compile your problem; then, it will invoke a numerical solver to obtain a solution.\n",
      "-------------------------------------------------------------------------------\n",
      "                                  Compilation                                  \n",
      "-------------------------------------------------------------------------------\n",
      "(CVXPY) Jun 14 10:12:31 AM: Compiling problem (target solver=ECOS).\n",
      "(CVXPY) Jun 14 10:12:31 AM: Reduction chain: Dcp2Cone -> CvxAttr2Constr -> ConeMatrixStuffing -> ECOS\n",
      "(CVXPY) Jun 14 10:12:31 AM: Applying reduction Dcp2Cone\n",
      "(CVXPY) Jun 14 10:12:31 AM: Applying reduction CvxAttr2Constr\n",
      "(CVXPY) Jun 14 10:12:31 AM: Applying reduction ConeMatrixStuffing\n",
      "(CVXPY) Jun 14 10:12:31 AM: Applying reduction ECOS\n",
      "(CVXPY) Jun 14 10:12:31 AM: Finished problem compilation (took 5.469e-02 seconds).\n",
      "-------------------------------------------------------------------------------\n",
      "                                Numerical solver                               \n",
      "-------------------------------------------------------------------------------\n",
      "(CVXPY) Jun 14 10:12:31 AM: Invoking solver ECOS  to obtain a solution.\n",
      "-------------------------------------------------------------------------------\n",
      "                                    Summary                                    \n",
      "-------------------------------------------------------------------------------\n",
      "(CVXPY) Jun 14 10:12:31 AM: Problem status: optimal\n",
      "(CVXPY) Jun 14 10:12:31 AM: Optimal value: 6.000e+00\n",
      "(CVXPY) Jun 14 10:12:31 AM: Compilation took 5.469e-02 seconds\n",
      "(CVXPY) Jun 14 10:12:31 AM: Solver (including time spent in interface) took 2.799e-04 seconds\n",
      "obj:  5.99999999651758\n",
      "A=[[3 1 2 4]\n",
      " [1 1 1 2]]\n",
      "b=[2 4]\n",
      "x=[-9.99999998e-01  5.00000000e+00 -1.94653065e-10 -2.38800105e-09]\n"
     ]
    }
   ],
   "source": [
    "import cvxpy as cvx\n",
    "import numpy as np\n",
    "\n",
    "# https://qiita.com/birdwatcher/items/885a96898304fddcbabc\n",
    "\n",
    "np.random.seed(3)\n",
    "\n",
    "# 次元数\n",
    "m: int = 2\n",
    "n: int = 4\n",
    "\n",
    "    \n",
    "# 各種定数・変数\n",
    "A: list = np.random.randint(1, 5, (m, n))\n",
    "b: list = np.random.randint(1, 5, m)\n",
    "    \n",
    "x = cvx.Variable(n)  # 変数定義\n",
    "z = cvx.Variable(n)  # 変数定義\n",
    "\n",
    "# 問題設定\n",
    "objective = cvx.Minimize(np.ones(n) @ z)  # 最小化したい関数 (目的関数)\n",
    "constraint = [A @ x == b, z >= x, z >= -x]  # 制約\n",
    "problem = cvx.Problem(objective, constraint)  # 問題\n",
    "problem.solve(verbose = True)  # 解く\n",
    "\n",
    "# 表示\n",
    "print(\"obj: \", problem.value)\n",
    "print(f\"A={A}\")\n",
    "print(f\"b={b}\")\n",
    "print(f\"x={x.value}\")\n",
    "\n"
   ]
  },
  {
   "cell_type": "code",
   "execution_count": null,
   "metadata": {},
   "outputs": [],
   "source": []
  }
 ],
 "metadata": {
  "kernelspec": {
   "display_name": "Python 3",
   "language": "python",
   "name": "python3"
  },
  "language_info": {
   "codemirror_mode": {
    "name": "ipython",
    "version": 3
   },
   "file_extension": ".py",
   "mimetype": "text/x-python",
   "name": "python",
   "nbconvert_exporter": "python",
   "pygments_lexer": "ipython3",
   "version": "3.8.5"
  }
 },
 "nbformat": 4,
 "nbformat_minor": 4
}
