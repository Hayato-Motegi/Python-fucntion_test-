{
 "cells": [
  {
   "cell_type": "markdown",
   "metadata": {},
   "source": [
    "# Pythonのf文字列（フォーマット済み文字列リテラル）の使い方\n",
    "## https://note.nkmk.me/python-f-strings/"
   ]
  },
  {
   "cell_type": "code",
   "execution_count": 2,
   "metadata": {},
   "outputs": [
    {
     "name": "stdout",
     "output_type": "stream",
     "text": [
      "123 and abc\n",
      "123 and abc\n"
     ]
    }
   ],
   "source": [
    "a = 123\n",
    "\n",
    "b = 'abc'\n",
    "\n",
    "print('{} and {}'.format(a, b))\n",
    "# 123 and abc\n",
    "\n",
    "print('{first} and {second}'.format(first=a, second=b))\n",
    "# 123 and abc"
   ]
  },
  {
   "cell_type": "code",
   "execution_count": 3,
   "metadata": {},
   "outputs": [
    {
     "name": "stdout",
     "output_type": "stream",
     "text": [
      "123 and abc\n",
      "123 and abc\n"
     ]
    }
   ],
   "source": [
    "print(f'{a} and {b}')\n",
    "# 123 and abc\n",
    "\n",
    "print(F'{a} and {b}')\n",
    "# 123 and abc"
   ]
  },
  {
   "cell_type": "code",
   "execution_count": null,
   "metadata": {},
   "outputs": [],
   "source": []
  }
 ],
 "metadata": {
  "kernelspec": {
   "display_name": "Python 3",
   "language": "python",
   "name": "python3"
  },
  "language_info": {
   "codemirror_mode": {
    "name": "ipython",
    "version": 3
   },
   "file_extension": ".py",
   "mimetype": "text/x-python",
   "name": "python",
   "nbconvert_exporter": "python",
   "pygments_lexer": "ipython3",
   "version": "3.8.5"
  }
 },
 "nbformat": 4,
 "nbformat_minor": 4
}
