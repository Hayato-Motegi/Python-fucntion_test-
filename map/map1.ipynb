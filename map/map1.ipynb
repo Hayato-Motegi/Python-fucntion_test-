{
 "cells": [
  {
   "attachments": {},
   "cell_type": "markdown",
   "metadata": {},
   "source": [
    "### pandas.Seriesのmapメソッドで列の要素を置換\n",
    "#### https://note.nkmk.me/python-pandas-map-replace/"
   ]
  },
  {
   "cell_type": "code",
   "execution_count": 3,
   "metadata": {},
   "outputs": [
    {
     "name": "stdout",
     "output_type": "stream",
     "text": [
      "      name  age state  point\n",
      "0    Alice   24    NY  NY,64\n",
      "1      Bob   42    CA     92\n",
      "2  Charlie   18    CA     70\n",
      "3     Dave   68    TX     70\n",
      "4    Ellen   24    CA     88\n",
      "5    Frank   30    NY     57\n",
      "0    NY\n",
      "1    CA\n",
      "2    CA\n",
      "3    TX\n",
      "4    CA\n",
      "5    NY\n",
      "Name: state, dtype: object\n"
     ]
    }
   ],
   "source": [
    "import pandas as pd\n",
    "\n",
    "df = pd.read_csv('/Users/motegihayato/Sync/hayato.dailylife@gmail.com/data_science/jupyterlab/test/map/sample_pandas_normal.csv')\n",
    "\n",
    "print(df)\n",
    "#       name  age state  point\n",
    "# 0    Alice   24    NY     64\n",
    "# 1      Bob   42    CA     92\n",
    "# 2  Charlie   18    CA     70\n",
    "# 3     Dave   68    TX     70\n",
    "# 4    Ellen   24    CA     88\n",
    "# 5    Frank   30    NY     57\n",
    "\n",
    "s = df['state']\n",
    "print(s)\n",
    "# 0    NY\n",
    "# 1    CA\n",
    "# 2    CA\n",
    "# 3    TX\n",
    "# 4    CA\n",
    "# 5    NY\n",
    "# Name: state, dtype: object"
   ]
  },
  {
   "cell_type": "code",
   "execution_count": 4,
   "metadata": {},
   "outputs": [
    {
     "name": "stdout",
     "output_type": "stream",
     "text": [
      "0       NewYork\n",
      "1    California\n",
      "2    California\n",
      "3         Texas\n",
      "4    California\n",
      "5       NewYork\n",
      "Name: state, dtype: object\n"
     ]
    }
   ],
   "source": [
    "s_map_all = s.map({'NY': 'NewYork', 'CA': 'California', 'TX': 'Texas'})\n",
    "print(s_map_all)\n",
    "# 0       NewYork\n",
    "# 1    California\n",
    "# 2    California\n",
    "# 3         Texas\n",
    "# 4    California\n",
    "# 5       NewYork\n",
    "# Name: state, dtype: object"
   ]
  },
  {
   "cell_type": "code",
   "execution_count": null,
   "metadata": {},
   "outputs": [],
   "source": []
  }
 ],
 "metadata": {
  "kernelspec": {
   "display_name": "Python 3",
   "language": "python",
   "name": "python3"
  },
  "language_info": {
   "codemirror_mode": {
    "name": "ipython",
    "version": 3
   },
   "file_extension": ".py",
   "mimetype": "text/x-python",
   "name": "python",
   "nbconvert_exporter": "python",
   "pygments_lexer": "ipython3",
   "version": "3.8.5"
  }
 },
 "nbformat": 4,
 "nbformat_minor": 4
}
