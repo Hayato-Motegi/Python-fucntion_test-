{
 "cells": [
  {
   "cell_type": "code",
   "execution_count": 1,
   "metadata": {},
   "outputs": [
    {
     "name": "stdout",
     "output_type": "stream",
     "text": [
      "FILE: os.listdir.ipynb\n",
      "DIR: .ipynb_checkpoints\n"
     ]
    }
   ],
   "source": [
    "import os\n",
    "\n",
    "entries = os.listdir('.')\n",
    "for x in entries:\n",
    "    if os.path.isdir(x):\n",
    "        print('DIR:', x)\n",
    "    else:\n",
    "        print('FILE:', x)"
   ]
  },
  {
   "cell_type": "markdown",
   "metadata": {},
   "source": [
    "# カレントディレクトリ内のディレクトリとファイルを列挙（一階層のみ）"
   ]
  },
  {
   "cell_type": "code",
   "execution_count": 15,
   "metadata": {},
   "outputs": [
    {
     "name": "stdout",
     "output_type": "stream",
     "text": [
      "\n",
      "------------------------1----------------------------\n",
      "\n"
     ]
    },
    {
     "data": {
      "text/plain": [
       "['os.listdir.ipynb', '.ipynb_checkpoints']"
      ]
     },
     "metadata": {},
     "output_type": "display_data"
    },
    {
     "name": "stdout",
     "output_type": "stream",
     "text": [
      "\n",
      "------------------------2----------------------------\n",
      "\n"
     ]
    },
    {
     "data": {
      "text/plain": [
       "False"
      ]
     },
     "metadata": {},
     "output_type": "display_data"
    },
    {
     "name": "stdout",
     "output_type": "stream",
     "text": [
      "\n",
      "------------------------3----------------------------\n",
      "\n"
     ]
    },
    {
     "data": {
      "text/plain": [
       "True"
      ]
     },
     "metadata": {},
     "output_type": "display_data"
    }
   ],
   "source": [
    "'-------------------------上でやっていることの確認-------------------------'\n",
    "print('\\n------------------------1----------------------------\\n')\n",
    "display(os.listdir('.'))\n",
    "print('\\n------------------------2----------------------------\\n')\n",
    "display(os.path.isdir('os.listdir.ipynb'))\n",
    "print('\\n------------------------3----------------------------\\n')\n",
    "display(os.path.isdir('.ipynb_checkpoints'))\n",
    "\n"
   ]
  },
  {
   "cell_type": "markdown",
   "metadata": {},
   "source": [
    "# os.walk で簡単にファイル列挙"
   ]
  },
  {
   "cell_type": "code",
   "execution_count": 18,
   "metadata": {},
   "outputs": [
    {
     "name": "stdout",
     "output_type": "stream",
     "text": [
      ".\n",
      "['.ipynb_checkpoints']\n",
      "['os.listdir.ipynb']\n",
      "-------------\n",
      "./.ipynb_checkpoints\n",
      "[]\n",
      "['os.listdir-checkpoint.ipynb']\n",
      "-------------\n"
     ]
    }
   ],
   "source": [
    "import os\n",
    "\n",
    "for dirpath, dirs, files in os.walk('.'):\n",
    "    print(dirpath)\n",
    "    print(dirs)\n",
    "    print(files)\n",
    "    print('-------------')"
   ]
  },
  {
   "cell_type": "code",
   "execution_count": null,
   "metadata": {},
   "outputs": [],
   "source": []
  }
 ],
 "metadata": {
  "kernelspec": {
   "display_name": "Python 3",
   "language": "python",
   "name": "python3"
  },
  "language_info": {
   "codemirror_mode": {
    "name": "ipython",
    "version": 3
   },
   "file_extension": ".py",
   "mimetype": "text/x-python",
   "name": "python",
   "nbconvert_exporter": "python",
   "pygments_lexer": "ipython3",
   "version": "3.8.5"
  }
 },
 "nbformat": 4,
 "nbformat_minor": 4
}
