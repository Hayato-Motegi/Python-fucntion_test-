{
 "cells": [
  {
   "cell_type": "markdown",
   "metadata": {},
   "source": [
    "# Pythonでディレクトリツリーを取得してファイル一覧を表示する方法【os.walkの使い方】\n",
    "## https://www.self-study-blog.com/dokugaku/python-directory-file-os-walk/"
   ]
  },
  {
   "cell_type": "code",
   "execution_count": 12,
   "metadata": {},
   "outputs": [],
   "source": [
    "import os"
   ]
  },
  {
   "cell_type": "markdown",
   "metadata": {},
   "source": [
    "# 変数が1つ"
   ]
  },
  {
   "cell_type": "code",
   "execution_count": 13,
   "metadata": {},
   "outputs": [
    {
     "name": "stdout",
     "output_type": "stream",
     "text": [
      "('.', ['os.walk', '.ipynb_checkpoints'], ['os.listdir.ipynb'])\n",
      "('./os.walk', ['.ipynb_checkpoints'], ['os.walk.ipynb'])\n",
      "('./os.walk/.ipynb_checkpoints', [], ['os.walk-checkpoint.ipynb'])\n",
      "('./.ipynb_checkpoints', [], ['os.listdir-checkpoint.ipynb'])\n"
     ]
    }
   ],
   "source": [
    "for i in os.walk(\".\"):\n",
    "    print(i)"
   ]
  },
  {
   "cell_type": "markdown",
   "metadata": {},
   "source": [
    "# 変数が2つ"
   ]
  },
  {
   "cell_type": "code",
   "execution_count": 15,
   "metadata": {},
   "outputs": [
    {
     "ename": "ValueError",
     "evalue": "too many values to unpack (expected 2)",
     "output_type": "error",
     "traceback": [
      "\u001b[0;31m---------------------------------------------------------------------------\u001b[0m",
      "\u001b[0;31mValueError\u001b[0m                                Traceback (most recent call last)",
      "\u001b[0;32m<ipython-input-15-257c655f44d4>\u001b[0m in \u001b[0;36m<module>\u001b[0;34m\u001b[0m\n\u001b[0;32m----> 1\u001b[0;31m \u001b[0;32mfor\u001b[0m \u001b[0mi\u001b[0m\u001b[0;34m,\u001b[0m\u001b[0mj\u001b[0m  \u001b[0;32min\u001b[0m \u001b[0mos\u001b[0m\u001b[0;34m.\u001b[0m\u001b[0mwalk\u001b[0m\u001b[0;34m(\u001b[0m\u001b[0;34m\".\"\u001b[0m\u001b[0;34m)\u001b[0m\u001b[0;34m:\u001b[0m\u001b[0;34m\u001b[0m\u001b[0;34m\u001b[0m\u001b[0m\n\u001b[0m\u001b[1;32m      2\u001b[0m     \u001b[0mprint\u001b[0m\u001b[0;34m(\u001b[0m\u001b[0mi\u001b[0m\u001b[0;34m,\u001b[0m \u001b[0mj\u001b[0m\u001b[0;34m)\u001b[0m\u001b[0;34m\u001b[0m\u001b[0;34m\u001b[0m\u001b[0m\n\u001b[1;32m      3\u001b[0m \u001b[0;34m\u001b[0m\u001b[0m\n",
      "\u001b[0;31mValueError\u001b[0m: too many values to unpack (expected 2)"
     ]
    }
   ],
   "source": [
    "for i,j  in os.walk(\".\"):\n",
    "    print(i, j)\n",
    " "
   ]
  },
  {
   "cell_type": "markdown",
   "metadata": {},
   "source": [
    "# 変数が3つ"
   ]
  },
  {
   "cell_type": "code",
   "execution_count": 19,
   "metadata": {},
   "outputs": [
    {
     "name": "stdout",
     "output_type": "stream",
     "text": [
      "ディレクトリ： .\n",
      "内部のディレクトリ名： os.walk\n",
      "内部のディレクトリ名： .ipynb_checkpoints\n",
      "ファイル名： os.listdir.ipynb\n",
      "===============\n",
      "ディレクトリ： ./os.walk\n",
      "内部のディレクトリ名： .ipynb_checkpoints\n",
      "ファイル名： os.walk.ipynb\n",
      "===============\n",
      "ディレクトリ： ./os.walk/.ipynb_checkpoints\n",
      "ファイル名： os.walk-checkpoint.ipynb\n",
      "===============\n",
      "ディレクトリ： ./.ipynb_checkpoints\n",
      "ファイル名： os.listdir-checkpoint.ipynb\n",
      "===============\n"
     ]
    }
   ],
   "source": [
    "for dirs, subdirs, files in os.walk(\".\"):\n",
    "    print(\"ディレクトリ：\", dirs)\n",
    "    for subdir in subdirs:\n",
    "        print(\"内部のディレクトリ名：\", subdir)\n",
    "    for file in files:\n",
    "        print(\"ファイル名：\", file)\n",
    "    print(\"===============\")"
   ]
  },
  {
   "cell_type": "code",
   "execution_count": null,
   "metadata": {},
   "outputs": [],
   "source": []
  }
 ],
 "metadata": {
  "kernelspec": {
   "display_name": "Python 3",
   "language": "python",
   "name": "python3"
  },
  "language_info": {
   "codemirror_mode": {
    "name": "ipython",
    "version": 3
   },
   "file_extension": ".py",
   "mimetype": "text/x-python",
   "name": "python",
   "nbconvert_exporter": "python",
   "pygments_lexer": "ipython3",
   "version": "3.8.5"
  }
 },
 "nbformat": 4,
 "nbformat_minor": 4
}
