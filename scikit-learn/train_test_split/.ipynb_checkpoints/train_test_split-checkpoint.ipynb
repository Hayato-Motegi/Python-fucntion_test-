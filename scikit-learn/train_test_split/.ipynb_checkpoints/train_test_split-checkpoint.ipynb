{
 "cells": [
  {
   "cell_type": "markdown",
   "metadata": {},
   "source": [
    "# train_test_split\n",
    "### http://taustation.com/sklearn-train_test_split/"
   ]
  },
  {
   "cell_type": "code",
   "execution_count": 16,
   "metadata": {},
   "outputs": [
    {
     "name": "stdout",
     "output_type": "stream",
     "text": [
      "[ 1  2  3  4  5  6  7  8  9 10 11 12]\n",
      "[array([ 5, 10,  6,  8,  1,  3, 12, 11,  7]), array([4, 9, 2])]\n",
      "x_train:[ 1  4  5 10  2  7  9 12 11]\n",
      "x_test :[3 6 8]\n"
     ]
    }
   ],
   "source": [
    "import numpy as np\n",
    "from sklearn.model_selection import train_test_split\n",
    " \n",
    "x = np.arange(1, 13)\n",
    "print(x)\n",
    "# [ 1  2  3  4  5  6  7  8  9 10 11 12]\n",
    " \n",
    "print(train_test_split(x))\n",
    "# [array([ 7,  2, 12,  5,  3,  9, 11,  8, 10]), array([1, 6, 4])]\n",
    "'デフォルトでtrain_test_split()は、テスト用データのサイズが与えた配列のサイズの0.25となるように配列を分割する（1つ目のサイズ：2つ目のサイズ＝3:1）'\n",
    "\n",
    "x_train, x_test = train_test_split(x)\n",
    " \n",
    "print(\"x_train:{}\".format(x_train))\n",
    "print(\"x_test :{}\".format(x_test))\n",
    "# x_train:[ 6  1 12  7  3  2 11  5  4]\n",
    "# x_test :[ 8  9 10]"
   ]
  },
  {
   "cell_type": "markdown",
   "metadata": {},
   "source": [
    "# テストデータサイズの指定\n",
    "##### テストデータのサイズはtest_sizeパラメーターで指定することができる。"
   ]
  },
  {
   "cell_type": "code",
   "execution_count": 17,
   "metadata": {},
   "outputs": [
    {
     "name": "stdout",
     "output_type": "stream",
     "text": [
      "[ 1  2  3  4  5  6  7  8  9 10]\n",
      "x_train:[10  2  1  5  4  6  7  8]\n",
      "x_test :[3 9]\n"
     ]
    }
   ],
   "source": [
    "x = np.arange(1, 11)\n",
    "print(x)\n",
    "\n",
    "\n",
    "x_train, x_test = train_test_split(x, test_size=0.2)\n",
    "print(\"x_train:{}\".format(x_train))\n",
    "print(\"x_test :{}\".format(x_test))\n",
    " \n",
    "# x_train:[ 3  9  2  8 10  4  1  6]\n",
    "# x_test :[ 7 12  5 11]"
   ]
  },
  {
   "cell_type": "markdown",
   "metadata": {},
   "source": [
    "# 複数データの同時分割"
   ]
  },
  {
   "cell_type": "code",
   "execution_count": 18,
   "metadata": {},
   "outputs": [],
   "source": [
    "import numpy as np\n",
    "from sklearn.model_selection import train_test_split\n",
    " \n",
    "x = np.arange(1, 11)\n",
    "y = np.arange(11, 21)\n",
    "#片方のデータセットの数が、もう片方の定数倍になっていないとだめみたい\n",
    "#上手に分けることができないみたい\n",
    "    \n",
    "x_train, x_test, y_train, y_test = train_test_split(x, y, train_size=0.8)\n",
    "\n",
    " \n",
    "# x_train:[2 8 4 1 6 5]\n",
    "# x_test :[7 3]\n",
    "# y_train:[12 18 14 11 16 15]\n",
    "# y_test :[17 13]"
   ]
  },
  {
   "cell_type": "code",
   "execution_count": 19,
   "metadata": {},
   "outputs": [
    {
     "name": "stdout",
     "output_type": "stream",
     "text": [
      "------------------1-------------------\n",
      "x_train:[ 8  4  2  5  9  7  1 10]\n",
      "------------------2-------------------\n",
      "x_test :[6 3]\n",
      "------------------3-------------------\n",
      "y_train:[18 14 12 15 19 17 11 20]\n",
      "------------------4-------------------\n",
      "y_test :[16 13]\n"
     ]
    }
   ],
   "source": [
    "print('------------------1-------------------')\n",
    "print(\"x_train:{}\".format(x_train))\n",
    "print('------------------2-------------------')\n",
    "print(\"x_test :{}\".format(x_test))\n",
    "print('------------------3-------------------')\n",
    "print(\"y_train:{}\".format(y_train))\n",
    "print('------------------4-------------------')\n",
    "print(\"y_test :{}\".format(y_test))"
   ]
  },
  {
   "cell_type": "code",
   "execution_count": 21,
   "metadata": {},
   "outputs": [],
   "source": [
    "x_train, x_test, y_train, y_test = train_test_split(x, y, test_size=0.8)"
   ]
  },
  {
   "cell_type": "code",
   "execution_count": 22,
   "metadata": {},
   "outputs": [
    {
     "name": "stdout",
     "output_type": "stream",
     "text": [
      "------------------1-------------------\n",
      "x_train:[5 3]\n",
      "------------------2-------------------\n",
      "x_test :[ 1  2  8  6 10  7  4  9]\n",
      "------------------3-------------------\n",
      "y_train:[15 13]\n",
      "------------------4-------------------\n",
      "y_test :[11 12 18 16 20 17 14 19]\n"
     ]
    }
   ],
   "source": [
    "print('------------------1-------------------')\n",
    "print(\"x_train:{}\".format(x_train))\n",
    "print('------------------2-------------------')\n",
    "print(\"x_test :{}\".format(x_test))\n",
    "print('------------------3-------------------')\n",
    "print(\"y_train:{}\".format(y_train))\n",
    "print('------------------4-------------------')\n",
    "print(\"y_test :{}\".format(y_test))"
   ]
  },
  {
   "cell_type": "markdown",
   "metadata": {},
   "source": [
    "# 複数のデータを分割"
   ]
  },
  {
   "cell_type": "code",
   "execution_count": 24,
   "metadata": {},
   "outputs": [
    {
     "name": "stdout",
     "output_type": "stream",
     "text": [
      "[[ 0 10]\n",
      " [ 1 11]\n",
      " [ 2 12]\n",
      " [ 3 13]\n",
      " [ 4 14]\n",
      " [ 5 15]\n",
      " [ 6 16]\n",
      " [ 7 17]\n",
      " [ 8 18]\n",
      " [ 9 19]]\n",
      "[0 1 2 3 4 5 6 7 8 9]\n"
     ]
    }
   ],
   "source": [
    "X = np.arange(20).reshape(2, 10).T\n",
    "print(X)\n",
    "# [[ 0 10]\n",
    "#  [ 1 11]\n",
    "#  [ 2 12]\n",
    "#  [ 3 13]\n",
    "#  [ 4 14]\n",
    "#  [ 5 15]\n",
    "#  [ 6 16]\n",
    "#  [ 7 17]\n",
    "#  [ 8 18]\n",
    "#  [ 9 19]]\n",
    "\n",
    "y = np.arange(10)\n",
    "print(y)\n",
    "# [0 1 2 3 4 5 6 7 8 9]"
   ]
  },
  {
   "cell_type": "code",
   "execution_count": 26,
   "metadata": {},
   "outputs": [],
   "source": [
    "X_train, X_test, y_train, y_test = train_test_split(X, y)"
   ]
  },
  {
   "cell_type": "code",
   "execution_count": 27,
   "metadata": {},
   "outputs": [
    {
     "name": "stdout",
     "output_type": "stream",
     "text": [
      "\n",
      "------------------------1----------------------------\n",
      "\n"
     ]
    },
    {
     "data": {
      "text/plain": [
       "array([[ 1, 11],\n",
       "       [ 2, 12],\n",
       "       [ 7, 17],\n",
       "       [ 0, 10],\n",
       "       [ 3, 13],\n",
       "       [ 6, 16],\n",
       "       [ 4, 14]])"
      ]
     },
     "metadata": {},
     "output_type": "display_data"
    },
    {
     "name": "stdout",
     "output_type": "stream",
     "text": [
      "\n",
      "------------------------2----------------------------\n",
      "\n"
     ]
    },
    {
     "data": {
      "text/plain": [
       "array([[ 5, 15],\n",
       "       [ 8, 18],\n",
       "       [ 9, 19]])"
      ]
     },
     "metadata": {},
     "output_type": "display_data"
    },
    {
     "name": "stdout",
     "output_type": "stream",
     "text": [
      "\n",
      "------------------------3----------------------------\n",
      "\n"
     ]
    },
    {
     "data": {
      "text/plain": [
       "array([1, 2, 7, 0, 3, 6, 4])"
      ]
     },
     "metadata": {},
     "output_type": "display_data"
    },
    {
     "name": "stdout",
     "output_type": "stream",
     "text": [
      "\n",
      "------------------------4----------------------------\n",
      "\n"
     ]
    },
    {
     "data": {
      "text/plain": [
       "array([5, 8, 9])"
      ]
     },
     "metadata": {},
     "output_type": "display_data"
    }
   ],
   "source": [
    "print('\\n------------------------1----------------------------\\n')\n",
    "display(X_train)\n",
    "print('\\n------------------------2----------------------------\\n')\n",
    "display(X_test)\n",
    "print('\\n------------------------3----------------------------\\n')\n",
    "display(y_train)\n",
    "print('\\n------------------------4----------------------------\\n')\n",
    "display(y_test)"
   ]
  },
  {
   "cell_type": "code",
   "execution_count": null,
   "metadata": {},
   "outputs": [],
   "source": []
  }
 ],
 "metadata": {
  "kernelspec": {
   "display_name": "Python 3",
   "language": "python",
   "name": "python3"
  },
  "language_info": {
   "codemirror_mode": {
    "name": "ipython",
    "version": 3
   },
   "file_extension": ".py",
   "mimetype": "text/x-python",
   "name": "python",
   "nbconvert_exporter": "python",
   "pygments_lexer": "ipython3",
   "version": "3.8.5"
  }
 },
 "nbformat": 4,
 "nbformat_minor": 4
}
