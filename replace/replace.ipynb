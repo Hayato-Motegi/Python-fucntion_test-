{
 "cells": [
  {
   "cell_type": "markdown",
   "metadata": {},
   "source": [
    "# replace関数の使い方\n",
    "## https://note.nkmk.me/python-pandas-replace/"
   ]
  },
  {
   "cell_type": "code",
   "execution_count": 38,
   "metadata": {},
   "outputs": [],
   "source": [
    "import pandas as pd"
   ]
  },
  {
   "cell_type": "code",
   "execution_count": 62,
   "metadata": {},
   "outputs": [
    {
     "name": "stdout",
     "output_type": "stream",
     "text": [
      "      name  age state  point\n",
      "0    Alice   24    NY     64\n",
      "1      Bob   42    CA     92\n",
      "2  Charlie   18    CA     70\n",
      "3     Dave   68    TX     70\n",
      "4    Ellen   24    CA     88\n",
      "5    Frank   30    NY     57\n"
     ]
    }
   ],
   "source": [
    "df = pd.read_csv('/Users/motegihayato/Sync/hayato.dailylife@gmail.com/data_science/jupyterlab/test/replace/sample_pandas_normal.csv')\n",
    "print(df)\n",
    "#print(df)\n",
    "#       name  age state  point\n",
    "# 0    Alice   24    NY     64\n",
    "# 1      Bob   42    CA     24\n",
    "# 2  Charlie   18    CA     70\n",
    "# 3     Dave   68    TX     70\n",
    "# 4    Ellen   24    CA     88\n",
    "# 5    Frank   30    NY     57"
   ]
  },
  {
   "cell_type": "code",
   "execution_count": 74,
   "metadata": {},
   "outputs": [
    {
     "name": "stdout",
     "output_type": "stream",
     "text": [
      "Alice\n",
      "24\n",
      "NY\n",
      "64\n",
      "- - - - - - - - - - - - - \n",
      "Bob\n",
      "42\n",
      "CA\n",
      "92\n",
      "- - - - - - - - - - - - - \n",
      "Charlie\n",
      "18\n",
      "CA\n",
      "70\n",
      "- - - - - - - - - - - - - \n",
      "Dave\n",
      "68\n",
      "TX\n",
      "70\n",
      "- - - - - - - - - - - - - \n",
      "Ellen\n",
      "24\n",
      "CA\n",
      "88\n"
     ]
    }
   ],
   "source": [
    "print(df.iloc[0, 0])\n",
    "print(df.iloc[0, 1])\n",
    "print(df.iloc[0, 2])\n",
    "print(df.iloc[0, 3])\n",
    "print(\"- - - - - - - - - - - - - \")\n",
    "print(df.iloc[1, 0])\n",
    "print(df.iloc[1, 1])\n",
    "print(df.iloc[1, 2])\n",
    "print(df.iloc[1, 3])\n",
    "print(\"- - - - - - - - - - - - - \")\n",
    "print(df.iloc[2, 0])\n",
    "print(df.iloc[2, 1])\n",
    "print(df.iloc[2, 2])\n",
    "print(df.iloc[2, 3])\n",
    "print(\"- - - - - - - - - - - - - \")\n",
    "print(df.iloc[3, 0])\n",
    "print(df.iloc[3, 1])\n",
    "print(df.iloc[3, 2])\n",
    "print(df.iloc[3, 3])\n",
    "print(\"- - - - - - - - - - - - - \")\n",
    "print(df.iloc[4, 0])\n",
    "print(df.iloc[4, 1])\n",
    "print(df.iloc[4, 2])\n",
    "print(df.iloc[4, 3])\n",
    "\n"
   ]
  },
  {
   "cell_type": "code",
   "execution_count": 77,
   "metadata": {},
   "outputs": [
    {
     "name": "stdout",
     "output_type": "stream",
     "text": [
      "      name  age state  point\n",
      "0    Alice   24    NY     64\n",
      "1      Bob   42    CA     92\n",
      "2  Charlie   18    CA     70\n",
      "3     Dave   68    TX     70\n",
      "4    Ellen   24    CA     88\n",
      "5    Frank   30    NY     57\n",
      "- - - - - - - - - - - - - \n",
      "      name  age       state  point\n",
      "0    Alice   24          NY     64\n",
      "1      Bob   42  California     92\n",
      "2  Charlie   18  California     70\n",
      "3     Dave   68          TX     70\n",
      "4    Ellen   24  California     88\n",
      "5    Frank   30          NY     57\n"
     ]
    }
   ],
   "source": [
    "print(df)\n",
    "print(\"- - - - - - - - - - - - - \")\n",
    "print(df.replace('CA', 'California'))\n",
    "#       name  age       state  point\n",
    "# 0    Alice   24          NY     64\n",
    "# 1      Bob   42  California     24\n",
    "# 2  Charlie   18  California     70\n",
    "# 3     Dave   68          TX     70\n",
    "# 4    Ellen   24  California     88\n",
    "# 5    Frank   30          NY     57"
   ]
  },
  {
   "cell_type": "code",
   "execution_count": 78,
   "metadata": {},
   "outputs": [
    {
     "name": "stdout",
     "output_type": "stream",
     "text": [
      "      name  age state  point\n",
      "0    Alice   24    NY     64\n",
      "1      Bob   42    CA     92\n",
      "2  Charlie   18    CA     70\n",
      "3     Dave   68    TX     70\n",
      "4    Ellen   24    CA     88\n",
      "5    Frank   30    NY     57\n",
      "- - - - - - - - - - - - - \n",
      "      name  age state  point\n",
      "0    Alice  100    NY     64\n",
      "1      Bob   42    CA     92\n",
      "2  Charlie   18    CA     70\n",
      "3     Dave   68    TX     70\n",
      "4    Ellen  100    CA     88\n",
      "5    Frank   30    NY     57\n"
     ]
    }
   ],
   "source": [
    "print(df)\n",
    "print(\"- - - - - - - - - - - - - \")\n",
    "print(df.replace(24, 100))\n",
    "#       name  age state  point\n",
    "# 0    Alice  100    NY     64\n",
    "# 1      Bob   42    CA    100\n",
    "# 2  Charlie   18    CA     70\n",
    "# 3     Dave   68    TX     70\n",
    "# 4    Ellen  100    CA     88\n",
    "# 5    Frank   30    NY     57"
   ]
  },
  {
   "cell_type": "code",
   "execution_count": 80,
   "metadata": {},
   "outputs": [
    {
     "name": "stdout",
     "output_type": "stream",
     "text": [
      "      name  age state  point\n",
      "0    Alice   24    NY     64\n",
      "1      Bob   42    CA     92\n",
      "2  Charlie   18    CA     70\n",
      "3     Dave   68    TX     70\n",
      "4    Ellen   24    CA     88\n",
      "5    Frank   30    NY     57\n",
      "- - - - - - - - - - - - - \n",
      "      name  age       state  point\n",
      "0    Alice  100          NY     64\n",
      "1      Bob   42  California     92\n",
      "2  Charlie   18  California     70\n",
      "3     Dave   68          TX     70\n",
      "4    Ellen  100  California     88\n",
      "5    Frank   30          NY     57\n"
     ]
    }
   ],
   "source": [
    "print(df)\n",
    "print(\"- - - - - - - - - - - - - \")\n",
    "print(df.replace({'CA': 'California', 24: 100}))\n",
    "#       name  age       state  point\n",
    "# 0    Alice  100          NY     64\n",
    "# 1      Bob   42  California    100\n",
    "# 2  Charlie   18  California     70\n",
    "# 3     Dave   68          TX     70\n",
    "# 4    Ellen  100  California     88\n",
    "# 5    Frank   30          NY     57"
   ]
  },
  {
   "cell_type": "code",
   "execution_count": null,
   "metadata": {},
   "outputs": [],
   "source": [
    "print(df.replace(['CA', 24], ['California', 100]))\n",
    "#       name  age       state  point\n",
    "# 0    Alice  100          NY     64\n",
    "# 1      Bob   42  California    100\n",
    "# 2  Charlie   18  California     70\n",
    "# 3     Dave   68          TX     70\n",
    "# 4    Ellen  100  California     88\n",
    "# 5    Frank   30          NY     57\n",
    "\n",
    "# print(df.replace(['CA', 24, 'NY'], ['California', 100]))\n",
    "# ValueError: Replacement lists must match in length. Expecting 3 got 2 "
   ]
  }
 ],
 "metadata": {
  "kernelspec": {
   "display_name": "Python 3",
   "language": "python",
   "name": "python3"
  },
  "language_info": {
   "codemirror_mode": {
    "name": "ipython",
    "version": 3
   },
   "file_extension": ".py",
   "mimetype": "text/x-python",
   "name": "python",
   "nbconvert_exporter": "python",
   "pygments_lexer": "ipython3",
   "version": "3.8.5"
  }
 },
 "nbformat": 4,
 "nbformat_minor": 4
}
