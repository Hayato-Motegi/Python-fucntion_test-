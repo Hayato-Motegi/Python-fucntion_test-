{
 "cells": [
  {
   "attachments": {},
   "cell_type": "markdown",
   "metadata": {},
   "source": [
    "### pandasで要素、行、列に関数を適用するmap, applymap, apply\n",
    "#### https://note.nkmk.me/python-pandas-map-applymap-apply/"
   ]
  },
  {
   "cell_type": "code",
   "execution_count": 4,
   "metadata": {},
   "outputs": [
    {
     "name": "stdout",
     "output_type": "stream",
     "text": [
      "    a   b   c   d\n",
      "0  11  12  13  14\n",
      "1  21  22  23  24\n",
      "2  31  32  33  34\n"
     ]
    }
   ],
   "source": [
    "import pandas as pd\n",
    "import numpy as np\n",
    "\n",
    "df = pd.read_csv('sample_header.csv')\n",
    "print(df)\n",
    "#     a   b   c   d\n",
    "# 0  11  12  13  14\n",
    "# 1  21  22  23  24\n",
    "# 2  31  32  33  34"
   ]
  },
  {
   "cell_type": "markdown",
   "metadata": {},
   "source": [
    "## Seriesの各要素に関数を適用: map(), apply()"
   ]
  },
  {
   "cell_type": "code",
   "execution_count": 11,
   "metadata": {},
   "outputs": [
    {
     "name": "stdout",
     "output_type": "stream",
     "text": [
      "0    11\n",
      "1    21\n",
      "2    31\n",
      "Name: a, dtype: int64\n"
     ]
    }
   ],
   "source": [
    "s = df['a']\n",
    "print(s)\n",
    "# 0    11\n",
    "# 1    21\n",
    "# 2    31\n",
    "# Name: a, dtype: int64"
   ]
  },
  {
   "cell_type": "code",
   "execution_count": 21,
   "metadata": {},
   "outputs": [
    {
     "data": {
      "text/plain": [
       "<function __main__.<lambda>(x)>"
      ]
     },
     "metadata": {},
     "output_type": "display_data"
    },
    {
     "data": {
      "text/plain": [
       "0    [11]\n",
       "1    [21]\n",
       "2    [31]\n",
       "Name: a, dtype: object"
      ]
     },
     "metadata": {},
     "output_type": "display_data"
    }
   ],
   "source": [
    "f_brackets = lambda x: '[{}]'.format(x)\n",
    "\n",
    "display(f_brackets)\n",
    "\n",
    "display(s.map(f_brackets))\n",
    "\n",
    "# 0    [11]\n",
    "# 1    [21]\n",
    "# 2    [31]\n",
    "# Name: a, dtype: object\n"
   ]
  },
  {
   "cell_type": "code",
   "execution_count": 8,
   "metadata": {},
   "outputs": [
    {
     "name": "stdout",
     "output_type": "stream",
     "text": [
      "0      OneOne\n",
      "1      TwoOne\n",
      "2    ThreeOne\n",
      "Name: a, dtype: object\n"
     ]
    }
   ],
   "source": [
    "\n",
    "def f_str(x):\n",
    "    return str(x).replace('1', 'One').replace('2', 'Two').replace('3', 'Three').replace('4', 'Four')\n",
    "\n",
    "print(s.map(f_str))\n",
    "# 0      OneOne\n",
    "# 1      TwoOne\n",
    "# 2    ThreeOne\n",
    "# Name: a, dtype: object"
   ]
  },
  {
   "cell_type": "code",
   "execution_count": null,
   "metadata": {},
   "outputs": [],
   "source": []
  }
 ],
 "metadata": {
  "kernelspec": {
   "display_name": "Python 3",
   "language": "python",
   "name": "python3"
  },
  "language_info": {
   "codemirror_mode": {
    "name": "ipython",
    "version": 3
   },
   "file_extension": ".py",
   "mimetype": "text/x-python",
   "name": "python",
   "nbconvert_exporter": "python",
   "pygments_lexer": "ipython3",
   "version": "3.10.9"
  },
  "vscode": {
   "interpreter": {
    "hash": "949777d72b0d2535278d3dc13498b2535136f6dfe0678499012e853ee9abcab1"
   }
  }
 },
 "nbformat": 4,
 "nbformat_minor": 4
}
