{
 "cells": [
  {
   "cell_type": "markdown",
   "metadata": {},
   "source": [
    "# Pythonで相関係数を計算する[4パターン]\n",
    "## https://qiita.com/ShoheiKojima/items/9a94931d5f298cf9663c"
   ]
  },
  {
   "cell_type": "code",
   "execution_count": 5,
   "metadata": {},
   "outputs": [
    {
     "name": "stdout",
     "output_type": "stream",
     "text": [
      "          col0      col1      col2\n",
      "idx0  0.475323  0.934302  0.021761\n",
      "idx1  0.051900  0.888208  0.239394\n",
      "idx2  0.939741  0.453684  0.368974\n",
      "idx3  0.264150  0.889292  0.243909\n",
      "idx4  0.484888  0.115999  0.169134\n",
      "idx5  0.742374  0.921363  0.892634\n",
      "idx6  0.700572  0.843351  0.497401\n",
      "idx7  0.654944  0.532997  0.906630\n",
      "idx8  0.114535  0.712388  0.641634\n",
      "idx9  0.933706  0.293355  0.536217\n"
     ]
    }
   ],
   "source": [
    "#!/usr/bin/env python3\n",
    "\n",
    "import pandas as pd\n",
    "import numpy as np\n",
    "\n",
    "# テスト用のDataFrameを作る\n",
    "df=pd.DataFrame(index=['idx'+str(i) for i in range(10)])\n",
    "for i in range(3):\n",
    "    df['col'+str(i)]=np.random.rand(10)\n",
    "\n",
    "# 作ったdata frame\n",
    "print(df)"
   ]
  },
  {
   "cell_type": "code",
   "execution_count": 4,
   "metadata": {},
   "outputs": [
    {
     "name": "stdout",
     "output_type": "stream",
     "text": [
      "          col0      col1      col2\n",
      "col0  1.000000 -0.204448 -0.473442\n",
      "col1 -0.204448  1.000000 -0.046642\n",
      "col2 -0.473442 -0.046642  1.000000\n"
     ]
    }
   ],
   "source": [
    "# pandasを使用してPearson's rを計算\n",
    "res=df.corr()   # pandasのDataFrameに格納される\n",
    "\n",
    "# 結果\n",
    "print(res)"
   ]
  },
  {
   "cell_type": "code",
   "execution_count": null,
   "metadata": {},
   "outputs": [],
   "source": []
  },
  {
   "cell_type": "code",
   "execution_count": null,
   "metadata": {},
   "outputs": [],
   "source": []
  }
 ],
 "metadata": {
  "kernelspec": {
   "display_name": "Python 3",
   "language": "python",
   "name": "python3"
  },
  "language_info": {
   "codemirror_mode": {
    "name": "ipython",
    "version": 3
   },
   "file_extension": ".py",
   "mimetype": "text/x-python",
   "name": "python",
   "nbconvert_exporter": "python",
   "pygments_lexer": "ipython3",
   "version": "3.8.5"
  }
 },
 "nbformat": 4,
 "nbformat_minor": 4
}
