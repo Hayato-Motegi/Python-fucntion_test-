{
 "cells": [
  {
   "cell_type": "markdown",
   "metadata": {},
   "source": [
    "# Pandas DataFrame は isin 関数\n",
    "## https://www.delftstack.com/ja/api/python-pandas/pandas-dataframe-isin-function/"
   ]
  },
  {
   "cell_type": "code",
   "execution_count": 3,
   "metadata": {},
   "outputs": [
    {
     "name": "stdout",
     "output_type": "stream",
     "text": [
      "The initial DataFrame is:\n",
      "       Name  Age Group  GPA\n",
      "0  Jonathan   10     A  3.2\n",
      "1      Will   11     B  3.5\n",
      "2   Michael    9     A  4.0\n",
      "3      Liva   10     A  2.9\n",
      "4       Sia   10     B  4.0\n",
      "5     Alice   11     B  3.6 \n",
      "\n"
     ]
    }
   ],
   "source": [
    "import pandas as pd\n",
    "\n",
    "students_df = pd.DataFrame({\n",
    "    'Name': [\"Jonathan\", \"Will\", \"Michael\", \"Liva\", \"Sia\", \"Alice\"],\n",
    "    'Age': [10, 11, 9, 10, 10, 11],\n",
    "    'Group': [\"A\", \"B\", \"A\", \"A\", \"B\", \"B\"],\n",
    "    'GPA': [3.2, 3.5, 4.0, 2.9, 4.0, 3.6]\n",
    "\n",
    "})\n",
    "print(\"The initial DataFrame is:\")\n",
    "print(students_df, \"\\n\")"
   ]
  },
  {
   "cell_type": "code",
   "execution_count": 10,
   "metadata": {},
   "outputs": [
    {
     "name": "stdout",
     "output_type": "stream",
     "text": [
      "\n",
      "----------1------------\n",
      "\n"
     ]
    },
    {
     "data": {
      "text/html": [
       "<div>\n",
       "<style scoped>\n",
       "    .dataframe tbody tr th:only-of-type {\n",
       "        vertical-align: middle;\n",
       "    }\n",
       "\n",
       "    .dataframe tbody tr th {\n",
       "        vertical-align: top;\n",
       "    }\n",
       "\n",
       "    .dataframe thead th {\n",
       "        text-align: right;\n",
       "    }\n",
       "</style>\n",
       "<table border=\"1\" class=\"dataframe\">\n",
       "  <thead>\n",
       "    <tr style=\"text-align: right;\">\n",
       "      <th></th>\n",
       "      <th>Name</th>\n",
       "      <th>Age</th>\n",
       "      <th>Group</th>\n",
       "      <th>GPA</th>\n",
       "    </tr>\n",
       "  </thead>\n",
       "  <tbody>\n",
       "    <tr>\n",
       "      <th>0</th>\n",
       "      <td>Jonathan</td>\n",
       "      <td>10</td>\n",
       "      <td>A</td>\n",
       "      <td>3.2</td>\n",
       "    </tr>\n",
       "    <tr>\n",
       "      <th>2</th>\n",
       "      <td>Michael</td>\n",
       "      <td>9</td>\n",
       "      <td>A</td>\n",
       "      <td>4.0</td>\n",
       "    </tr>\n",
       "    <tr>\n",
       "      <th>3</th>\n",
       "      <td>Liva</td>\n",
       "      <td>10</td>\n",
       "      <td>A</td>\n",
       "      <td>2.9</td>\n",
       "    </tr>\n",
       "  </tbody>\n",
       "</table>\n",
       "</div>"
      ],
      "text/plain": [
       "       Name  Age Group  GPA\n",
       "0  Jonathan   10     A  3.2\n",
       "2   Michael    9     A  4.0\n",
       "3      Liva   10     A  2.9"
      ]
     },
     "metadata": {},
     "output_type": "display_data"
    },
    {
     "name": "stdout",
     "output_type": "stream",
     "text": [
      "\n",
      "----------2------------\n",
      "\n"
     ]
    },
    {
     "data": {
      "text/plain": [
       "Int64Index([0, 2, 3], dtype='int64')"
      ]
     },
     "metadata": {},
     "output_type": "display_data"
    },
    {
     "name": "stdout",
     "output_type": "stream",
     "text": [
      "\n",
      "----------3------------\n",
      "\n"
     ]
    },
    {
     "data": {
      "text/plain": [
       "0     True\n",
       "1    False\n",
       "2     True\n",
       "3     True\n",
       "4    False\n",
       "5    False\n",
       "Name: Group, dtype: bool"
      ]
     },
     "metadata": {},
     "output_type": "display_data"
    },
    {
     "name": "stdout",
     "output_type": "stream",
     "text": [
      "\n",
      "----------4------------\n",
      "\n",
      "The DataFrame of students from Group A is:\n",
      "       Name  Age Group  GPA\n",
      "0  Jonathan   10     A  3.2\n",
      "2   Michael    9     A  4.0\n",
      "3      Liva   10     A  2.9 \n",
      "\n"
     ]
    }
   ],
   "source": [
    "boolean_indicies = students_df[\"Group\"].isin([\"A\"])\n",
    "filtered_df = students_df[boolean_indicies]\n",
    "\n",
    "\n",
    "print('\\n----------1------------\\n')\n",
    "display(students_df[boolean_indicies])\n",
    "print('\\n----------2------------\\n')\n",
    "display(students_df[boolean_indicies].index)\n",
    "print('\\n----------3------------\\n')\n",
    "display(boolean_indicies)\n",
    "print('\\n----------4------------\\n')\n",
    "print(\"The DataFrame of students from Group A is:\")\n",
    "print(filtered_df, \"\\n\")\n"
   ]
  },
  {
   "cell_type": "code",
   "execution_count": null,
   "metadata": {},
   "outputs": [],
   "source": []
  }
 ],
 "metadata": {
  "kernelspec": {
   "display_name": "Python 3",
   "language": "python",
   "name": "python3"
  },
  "language_info": {
   "codemirror_mode": {
    "name": "ipython",
    "version": 3
   },
   "file_extension": ".py",
   "mimetype": "text/x-python",
   "name": "python",
   "nbconvert_exporter": "python",
   "pygments_lexer": "ipython3",
   "version": "3.8.5"
  }
 },
 "nbformat": 4,
 "nbformat_minor": 4
}
