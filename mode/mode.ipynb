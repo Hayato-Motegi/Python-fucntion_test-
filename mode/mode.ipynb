{
 "cells": [
  {
   "cell_type": "markdown",
   "metadata": {},
   "source": [
    "# pandasで行・列ごとの最頻値を取得するmode\n",
    "## https://note.nkmk.me/python-pandas-mode/"
   ]
  },
  {
   "cell_type": "code",
   "execution_count": 3,
   "metadata": {},
   "outputs": [
    {
     "name": "stdout",
     "output_type": "stream",
     "text": [
      "0    X\n",
      "1    X\n",
      "2    Y\n",
      "3    X\n",
      "dtype: object\n",
      "0    X\n",
      "dtype: object\n",
      "<class 'pandas.core.series.Series'>\n"
     ]
    }
   ],
   "source": [
    "import pandas as pd\n",
    "\n",
    "s = pd.Series(['X', 'X', 'Y', 'X'])\n",
    "print(s)\n",
    "# 0    X\n",
    "# 1    X\n",
    "# 2    Y\n",
    "# 3    X\n",
    "# dtype: object\n",
    "\n",
    "print(s.mode())\n",
    "# 0    X\n",
    "# dtype: object\n",
    "\n",
    "print(type(s.mode()))\n",
    "# <class 'pandas.core.series.Series'>"
   ]
  },
  {
   "cell_type": "code",
   "execution_count": 4,
   "metadata": {},
   "outputs": [],
   "source": [
    "#### 最頻値が複数ある場合は以下の通り。"
   ]
  },
  {
   "cell_type": "code",
   "execution_count": 8,
   "metadata": {},
   "outputs": [
    {
     "name": "stdout",
     "output_type": "stream",
     "text": [
      "0    X\n",
      "1    Y\n",
      "2    Y\n",
      "3    X\n",
      "dtype: object\n",
      "0    X\n",
      "1    Y\n",
      "dtype: object\n",
      "X\n",
      "--------------------------\n",
      "Y\n"
     ]
    }
   ],
   "source": [
    "s_same = pd.Series(['X', 'Y', 'Y', 'X'])\n",
    "print(s_same)\n",
    "# 0    X\n",
    "# 1    Y\n",
    "# 2    Y\n",
    "# 3    X\n",
    "# dtype: object\n",
    "\n",
    "print(s_same.mode())\n",
    "# 0    X\n",
    "# 1    Y\n",
    "# dtype: object\n",
    "\n",
    "print(s_same.mode()[0])\n",
    "# X\n",
    "print('--------------------------')\n",
    "print(s_same.mode()[1])\n",
    "# Y"
   ]
  },
  {
   "cell_type": "code",
   "execution_count": null,
   "metadata": {},
   "outputs": [],
   "source": []
  }
 ],
 "metadata": {
  "kernelspec": {
   "display_name": "Python 3",
   "language": "python",
   "name": "python3"
  },
  "language_info": {
   "codemirror_mode": {
    "name": "ipython",
    "version": 3
   },
   "file_extension": ".py",
   "mimetype": "text/x-python",
   "name": "python",
   "nbconvert_exporter": "python",
   "pygments_lexer": "ipython3",
   "version": "3.8.5"
  }
 },
 "nbformat": 4,
 "nbformat_minor": 4
}
