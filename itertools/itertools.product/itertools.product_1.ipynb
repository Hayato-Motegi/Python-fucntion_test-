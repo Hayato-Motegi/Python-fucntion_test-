{
 "cells": [
  {
   "cell_type": "markdown",
   "metadata": {},
   "source": [
    "# Pythonで複数のリストの直積（デカルト積）を生成するitertools.product\n",
    "## https://note.nkmk.me/python-itertools-product/"
   ]
  },
  {
   "cell_type": "code",
   "execution_count": 12,
   "metadata": {},
   "outputs": [
    {
     "name": "stdout",
     "output_type": "stream",
     "text": [
      "<itertools.product object at 0x7fcb07b98f40>\n",
      "<class 'itertools.product'>\n"
     ]
    }
   ],
   "source": [
    "import itertools\n",
    "import pprint\n",
    "\n",
    "l1 = ['a', 'b', 'c']\n",
    "l2 = ['X', 'Y', 'Z']\n",
    "\n",
    "p = itertools.product(l1, l2)\n",
    "\n",
    "print(p)\n",
    "# <itertools.product object at 0x1026edd80>\n",
    "\n",
    "print(type(p))\n",
    "# <class 'itertools.product'>"
   ]
  },
  {
   "cell_type": "code",
   "execution_count": 13,
   "metadata": {},
   "outputs": [
    {
     "name": "stdout",
     "output_type": "stream",
     "text": [
      "('a', 'X')\n",
      "('a', 'Y')\n",
      "('a', 'Z')\n",
      "('b', 'X')\n",
      "('b', 'Y')\n",
      "('b', 'Z')\n",
      "('c', 'X')\n",
      "('c', 'Y')\n",
      "('c', 'Z')\n"
     ]
    }
   ],
   "source": [
    "for v in p:\n",
    "    print(v)"
   ]
  },
  {
   "cell_type": "code",
   "execution_count": 17,
   "metadata": {},
   "outputs": [
    {
     "name": "stdout",
     "output_type": "stream",
     "text": [
      "a X\n",
      "a Y\n",
      "a Z\n",
      "b X\n",
      "b Y\n",
      "b Z\n",
      "c X\n",
      "c Y\n",
      "c Z\n"
     ]
    }
   ],
   "source": [
    "p = itertools.product(l1, l2);\n",
    "for v1, v2 in p:\n",
    "    print(v1, v2)"
   ]
  },
  {
   "cell_type": "code",
   "execution_count": 26,
   "metadata": {},
   "outputs": [
    {
     "name": "stdout",
     "output_type": "stream",
     "text": [
      "1 1\n",
      "1 2\n",
      "1 3\n",
      "2 1\n",
      "2 2\n",
      "2 3\n"
     ]
    }
   ],
   "source": [
    "p = itertools.product([1,2], [1,2,3]);\n",
    "for v1, v2 in p:\n",
    "    print(v1, v2)"
   ]
  },
  {
   "cell_type": "code",
   "execution_count": null,
   "metadata": {},
   "outputs": [],
   "source": []
  }
 ],
 "metadata": {
  "kernelspec": {
   "display_name": "Python 3.8.5 64-bit ('anaconda3')",
   "language": "python",
   "name": "python3"
  },
  "language_info": {
   "codemirror_mode": {
    "name": "ipython",
    "version": 3
   },
   "file_extension": ".py",
   "mimetype": "text/x-python",
   "name": "python",
   "nbconvert_exporter": "python",
   "pygments_lexer": "ipython3",
   "version": "3.8.5"
  },
  "vscode": {
   "interpreter": {
    "hash": "910010b9128fec0bda95a110deaa2f7baca3ef79608cce04836aad2a922a4fb5"
   }
  }
 },
 "nbformat": 4,
 "nbformat_minor": 4
}
